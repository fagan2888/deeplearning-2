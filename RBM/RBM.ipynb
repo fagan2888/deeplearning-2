{
 "metadata": {
  "name": "",
  "signature": "sha256:72dc9c84e203c03596151e8b64631012e8ee0eba0063dcb20829a58a9f834bc4"
 },
 "nbformat": 3,
 "nbformat_minor": 0,
 "worksheets": [
  {
   "cells": [
    {
     "cell_type": "code",
     "collapsed": false,
     "input": [
      "import cPickle\n",
      "import gzip\n",
      "import time\n",
      "\n",
      "try:\n",
      "    import PIL.Image as Image\n",
      "except ImportError:\n",
      "    import Image\n",
      "\n",
      "import numpy\n",
      "\n",
      "import theano\n",
      "import theano.tensor as T\n",
      "import os\n",
      "\n",
      "from theano.tensor.shared_randomstreams import RandomStreams\n",
      "\n",
      "from sklearn import datasets\n"
     ],
     "language": "python",
     "metadata": {},
     "outputs": [],
     "prompt_number": 3
    },
    {
     "cell_type": "code",
     "collapsed": false,
     "input": [],
     "language": "python",
     "metadata": {},
     "outputs": []
    }
   ],
   "metadata": {}
  }
 ]
}